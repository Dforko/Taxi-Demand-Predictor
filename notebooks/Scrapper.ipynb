{
 "cells": [
  {
   "cell_type": "code",
   "execution_count": 3,
   "metadata": {},
   "outputs": [],
   "source": [
    "from pathlib import Path\n",
    "import requests\n",
    "\n",
    "def download_one_file_of_raw_data(year: int, month: int) -> Path:\n",
    "    URL = f'https://d37ci6vzurychx.cloudfront.net/trip-data/yellow_tripdata_{year}-{month:02d}.parquet'\n",
    "    response = requests.get(URL)\n",
    "\n",
    "    if response.status_code == 200:\n",
    "        path = f'../data/raw/rides_{year}-{month:02d}.parquet'\n",
    "        open(path, \"wb\").write(response.content)\n",
    "        return path\n",
    "    else:\n",
    "        raise Exception(f'URL {URL} is not available')"
   ]
  },
  {
   "cell_type": "code",
   "execution_count": 4,
   "metadata": {},
   "outputs": [
    {
     "data": {
      "text/plain": [
       "'../data/raw/rides_2022-03.parquet'"
      ]
     },
     "execution_count": 4,
     "metadata": {},
     "output_type": "execute_result"
    }
   ],
   "source": [
    "download_one_file_of_raw_data(year=2022, month=3)"
   ]
  },
  {
   "cell_type": "code",
   "execution_count": 5,
   "metadata": {},
   "outputs": [
    {
     "data": {
      "text/html": [
       "<div>\n",
       "<style scoped>\n",
       "    .dataframe tbody tr th:only-of-type {\n",
       "        vertical-align: middle;\n",
       "    }\n",
       "\n",
       "    .dataframe tbody tr th {\n",
       "        vertical-align: top;\n",
       "    }\n",
       "\n",
       "    .dataframe thead th {\n",
       "        text-align: right;\n",
       "    }\n",
       "</style>\n",
       "<table border=\"1\" class=\"dataframe\">\n",
       "  <thead>\n",
       "    <tr style=\"text-align: right;\">\n",
       "      <th></th>\n",
       "      <th>VendorID</th>\n",
       "      <th>tpep_pickup_datetime</th>\n",
       "      <th>tpep_dropoff_datetime</th>\n",
       "      <th>passenger_count</th>\n",
       "      <th>trip_distance</th>\n",
       "      <th>RatecodeID</th>\n",
       "      <th>store_and_fwd_flag</th>\n",
       "      <th>PULocationID</th>\n",
       "      <th>DOLocationID</th>\n",
       "      <th>payment_type</th>\n",
       "      <th>fare_amount</th>\n",
       "      <th>extra</th>\n",
       "      <th>mta_tax</th>\n",
       "      <th>tip_amount</th>\n",
       "      <th>tolls_amount</th>\n",
       "      <th>improvement_surcharge</th>\n",
       "      <th>total_amount</th>\n",
       "      <th>congestion_surcharge</th>\n",
       "      <th>airport_fee</th>\n",
       "    </tr>\n",
       "  </thead>\n",
       "  <tbody>\n",
       "    <tr>\n",
       "      <th>0</th>\n",
       "      <td>1</td>\n",
       "      <td>2022-02-01 00:06:58</td>\n",
       "      <td>2022-02-01 00:19:24</td>\n",
       "      <td>1.0</td>\n",
       "      <td>5.40</td>\n",
       "      <td>1.0</td>\n",
       "      <td>N</td>\n",
       "      <td>138</td>\n",
       "      <td>252</td>\n",
       "      <td>1</td>\n",
       "      <td>17.0</td>\n",
       "      <td>1.75</td>\n",
       "      <td>0.5</td>\n",
       "      <td>3.90</td>\n",
       "      <td>0.00</td>\n",
       "      <td>0.3</td>\n",
       "      <td>23.45</td>\n",
       "      <td>0.0</td>\n",
       "      <td>1.25</td>\n",
       "    </tr>\n",
       "    <tr>\n",
       "      <th>1</th>\n",
       "      <td>1</td>\n",
       "      <td>2022-02-01 00:38:22</td>\n",
       "      <td>2022-02-01 00:55:55</td>\n",
       "      <td>1.0</td>\n",
       "      <td>6.40</td>\n",
       "      <td>1.0</td>\n",
       "      <td>N</td>\n",
       "      <td>138</td>\n",
       "      <td>41</td>\n",
       "      <td>2</td>\n",
       "      <td>21.0</td>\n",
       "      <td>1.75</td>\n",
       "      <td>0.5</td>\n",
       "      <td>0.00</td>\n",
       "      <td>6.55</td>\n",
       "      <td>0.3</td>\n",
       "      <td>30.10</td>\n",
       "      <td>0.0</td>\n",
       "      <td>1.25</td>\n",
       "    </tr>\n",
       "    <tr>\n",
       "      <th>2</th>\n",
       "      <td>1</td>\n",
       "      <td>2022-02-01 00:03:20</td>\n",
       "      <td>2022-02-01 00:26:59</td>\n",
       "      <td>1.0</td>\n",
       "      <td>12.50</td>\n",
       "      <td>1.0</td>\n",
       "      <td>N</td>\n",
       "      <td>138</td>\n",
       "      <td>200</td>\n",
       "      <td>2</td>\n",
       "      <td>35.5</td>\n",
       "      <td>1.75</td>\n",
       "      <td>0.5</td>\n",
       "      <td>0.00</td>\n",
       "      <td>6.55</td>\n",
       "      <td>0.3</td>\n",
       "      <td>44.60</td>\n",
       "      <td>0.0</td>\n",
       "      <td>1.25</td>\n",
       "    </tr>\n",
       "    <tr>\n",
       "      <th>3</th>\n",
       "      <td>2</td>\n",
       "      <td>2022-02-01 00:08:00</td>\n",
       "      <td>2022-02-01 00:28:05</td>\n",
       "      <td>1.0</td>\n",
       "      <td>9.88</td>\n",
       "      <td>1.0</td>\n",
       "      <td>N</td>\n",
       "      <td>239</td>\n",
       "      <td>200</td>\n",
       "      <td>2</td>\n",
       "      <td>28.0</td>\n",
       "      <td>0.50</td>\n",
       "      <td>0.5</td>\n",
       "      <td>0.00</td>\n",
       "      <td>3.00</td>\n",
       "      <td>0.3</td>\n",
       "      <td>34.80</td>\n",
       "      <td>2.5</td>\n",
       "      <td>0.00</td>\n",
       "    </tr>\n",
       "    <tr>\n",
       "      <th>4</th>\n",
       "      <td>2</td>\n",
       "      <td>2022-02-01 00:06:48</td>\n",
       "      <td>2022-02-01 00:33:07</td>\n",
       "      <td>1.0</td>\n",
       "      <td>12.16</td>\n",
       "      <td>1.0</td>\n",
       "      <td>N</td>\n",
       "      <td>138</td>\n",
       "      <td>125</td>\n",
       "      <td>1</td>\n",
       "      <td>35.5</td>\n",
       "      <td>0.50</td>\n",
       "      <td>0.5</td>\n",
       "      <td>8.11</td>\n",
       "      <td>0.00</td>\n",
       "      <td>0.3</td>\n",
       "      <td>48.66</td>\n",
       "      <td>2.5</td>\n",
       "      <td>1.25</td>\n",
       "    </tr>\n",
       "  </tbody>\n",
       "</table>\n",
       "</div>"
      ],
      "text/plain": [
       "   VendorID tpep_pickup_datetime tpep_dropoff_datetime  passenger_count  \\\n",
       "0         1  2022-02-01 00:06:58   2022-02-01 00:19:24              1.0   \n",
       "1         1  2022-02-01 00:38:22   2022-02-01 00:55:55              1.0   \n",
       "2         1  2022-02-01 00:03:20   2022-02-01 00:26:59              1.0   \n",
       "3         2  2022-02-01 00:08:00   2022-02-01 00:28:05              1.0   \n",
       "4         2  2022-02-01 00:06:48   2022-02-01 00:33:07              1.0   \n",
       "\n",
       "   trip_distance  RatecodeID store_and_fwd_flag  PULocationID  DOLocationID  \\\n",
       "0           5.40         1.0                  N           138           252   \n",
       "1           6.40         1.0                  N           138            41   \n",
       "2          12.50         1.0                  N           138           200   \n",
       "3           9.88         1.0                  N           239           200   \n",
       "4          12.16         1.0                  N           138           125   \n",
       "\n",
       "   payment_type  fare_amount  extra  mta_tax  tip_amount  tolls_amount  \\\n",
       "0             1         17.0   1.75      0.5        3.90          0.00   \n",
       "1             2         21.0   1.75      0.5        0.00          6.55   \n",
       "2             2         35.5   1.75      0.5        0.00          6.55   \n",
       "3             2         28.0   0.50      0.5        0.00          3.00   \n",
       "4             1         35.5   0.50      0.5        8.11          0.00   \n",
       "\n",
       "   improvement_surcharge  total_amount  congestion_surcharge  airport_fee  \n",
       "0                    0.3         23.45                   0.0         1.25  \n",
       "1                    0.3         30.10                   0.0         1.25  \n",
       "2                    0.3         44.60                   0.0         1.25  \n",
       "3                    0.3         34.80                   2.5         0.00  \n",
       "4                    0.3         48.66                   2.5         1.25  "
      ]
     },
     "execution_count": 5,
     "metadata": {},
     "output_type": "execute_result"
    }
   ],
   "source": [
    "import pandas as pd\n",
    "\n",
    "rides=pd.read_parquet('../data/raw/rides_2022-02.parquet')\n",
    "rides.head()\n"
   ]
  },
  {
   "cell_type": "code",
   "execution_count": 6,
   "metadata": {},
   "outputs": [
    {
     "data": {
      "text/html": [
       "<div>\n",
       "<style scoped>\n",
       "    .dataframe tbody tr th:only-of-type {\n",
       "        vertical-align: middle;\n",
       "    }\n",
       "\n",
       "    .dataframe tbody tr th {\n",
       "        vertical-align: top;\n",
       "    }\n",
       "\n",
       "    .dataframe thead th {\n",
       "        text-align: right;\n",
       "    }\n",
       "</style>\n",
       "<table border=\"1\" class=\"dataframe\">\n",
       "  <thead>\n",
       "    <tr style=\"text-align: right;\">\n",
       "      <th></th>\n",
       "      <th>tpep_pickup_datetime</th>\n",
       "      <th>PULocationID</th>\n",
       "    </tr>\n",
       "  </thead>\n",
       "  <tbody>\n",
       "    <tr>\n",
       "      <th>0</th>\n",
       "      <td>2022-02-01 00:06:58</td>\n",
       "      <td>138</td>\n",
       "    </tr>\n",
       "    <tr>\n",
       "      <th>1</th>\n",
       "      <td>2022-02-01 00:38:22</td>\n",
       "      <td>138</td>\n",
       "    </tr>\n",
       "    <tr>\n",
       "      <th>2</th>\n",
       "      <td>2022-02-01 00:03:20</td>\n",
       "      <td>138</td>\n",
       "    </tr>\n",
       "    <tr>\n",
       "      <th>3</th>\n",
       "      <td>2022-02-01 00:08:00</td>\n",
       "      <td>239</td>\n",
       "    </tr>\n",
       "    <tr>\n",
       "      <th>4</th>\n",
       "      <td>2022-02-01 00:06:48</td>\n",
       "      <td>138</td>\n",
       "    </tr>\n",
       "  </tbody>\n",
       "</table>\n",
       "</div>"
      ],
      "text/plain": [
       "  tpep_pickup_datetime  PULocationID\n",
       "0  2022-02-01 00:06:58           138\n",
       "1  2022-02-01 00:38:22           138\n",
       "2  2022-02-01 00:03:20           138\n",
       "3  2022-02-01 00:08:00           239\n",
       "4  2022-02-01 00:06:48           138"
      ]
     },
     "execution_count": 6,
     "metadata": {},
     "output_type": "execute_result"
    }
   ],
   "source": [
    "rides = rides[['tpep_pickup_datetime', 'PULocationID']]\n",
    "\n",
    "rides.head()"
   ]
  },
  {
   "cell_type": "code",
   "execution_count": 7,
   "metadata": {},
   "outputs": [
    {
     "data": {
      "text/plain": [
       "count                       2979431\n",
       "mean     2022-02-15 07:55:36.811103\n",
       "min             2003-01-01 00:10:06\n",
       "25%             2022-02-08 15:30:42\n",
       "50%             2022-02-15 11:52:28\n",
       "75%             2022-02-22 12:31:14\n",
       "max             2022-05-24 17:41:50\n",
       "Name: pickup_datetime, dtype: object"
      ]
     },
     "execution_count": 7,
     "metadata": {},
     "output_type": "execute_result"
    }
   ],
   "source": [
    "rides.rename(columns={\n",
    "    'tpep_pickup_datetime': 'pickup_datetime',\n",
    "    'PULocationID': 'pickup_location_id',\n",
    "}, inplace=True)\n",
    "\n",
    "rides['pickup_datetime'].describe()"
   ]
  },
  {
   "cell_type": "code",
   "execution_count": 8,
   "metadata": {},
   "outputs": [
    {
     "data": {
      "text/plain": [
       "count                       2877147\n",
       "mean     2022-02-14 20:58:45.475700\n",
       "min             2022-02-01 00:00:00\n",
       "25%             2022-02-08 11:11:58\n",
       "50%             2022-02-14 20:10:07\n",
       "75%      2022-02-21 15:08:44.500000\n",
       "max             2022-02-28 00:00:00\n",
       "Name: pickup_datetime, dtype: object"
      ]
     },
     "execution_count": 8,
     "metadata": {},
     "output_type": "execute_result"
    }
   ],
   "source": [
    "rides['pickup_datetime'] = pd.to_datetime(rides['pickup_datetime'])\n",
    "\n",
    "rides=rides[rides.pickup_datetime >='2022-02-01']\n",
    "rides=rides[rides.pickup_datetime <='2022-02-28']\n",
    "\n",
    "rides['pickup_datetime'].describe()"
   ]
  },
  {
   "cell_type": "code",
   "execution_count": 9,
   "metadata": {},
   "outputs": [],
   "source": [
    "rides.to_parquet('../data/etl/val_rides_2022-02.parquet')"
   ]
  },
  {
   "cell_type": "markdown",
   "metadata": {},
   "source": [
    "Agrupar x hora"
   ]
  },
  {
   "cell_type": "code",
   "execution_count": 10,
   "metadata": {},
   "outputs": [],
   "source": [
    "import pandas as pd\n",
    "\n",
    "rides=pd.read_parquet('../data/etl/val_rides_2022-02.parquet')\n"
   ]
  },
  {
   "cell_type": "code",
   "execution_count": 11,
   "metadata": {},
   "outputs": [
    {
     "data": {
      "text/html": [
       "<div>\n",
       "<style scoped>\n",
       "    .dataframe tbody tr th:only-of-type {\n",
       "        vertical-align: middle;\n",
       "    }\n",
       "\n",
       "    .dataframe tbody tr th {\n",
       "        vertical-align: top;\n",
       "    }\n",
       "\n",
       "    .dataframe thead th {\n",
       "        text-align: right;\n",
       "    }\n",
       "</style>\n",
       "<table border=\"1\" class=\"dataframe\">\n",
       "  <thead>\n",
       "    <tr style=\"text-align: right;\">\n",
       "      <th></th>\n",
       "      <th>pickup_datetime</th>\n",
       "      <th>pickup_location_id</th>\n",
       "      <th>pickup_hour</th>\n",
       "    </tr>\n",
       "  </thead>\n",
       "  <tbody>\n",
       "    <tr>\n",
       "      <th>0</th>\n",
       "      <td>2022-02-01 00:06:58</td>\n",
       "      <td>138</td>\n",
       "      <td>2022-02-01 00:00:00</td>\n",
       "    </tr>\n",
       "    <tr>\n",
       "      <th>1</th>\n",
       "      <td>2022-02-01 00:38:22</td>\n",
       "      <td>138</td>\n",
       "      <td>2022-02-01 00:00:00</td>\n",
       "    </tr>\n",
       "    <tr>\n",
       "      <th>2</th>\n",
       "      <td>2022-02-01 00:03:20</td>\n",
       "      <td>138</td>\n",
       "      <td>2022-02-01 00:00:00</td>\n",
       "    </tr>\n",
       "    <tr>\n",
       "      <th>3</th>\n",
       "      <td>2022-02-01 00:08:00</td>\n",
       "      <td>239</td>\n",
       "      <td>2022-02-01 00:00:00</td>\n",
       "    </tr>\n",
       "    <tr>\n",
       "      <th>4</th>\n",
       "      <td>2022-02-01 00:06:48</td>\n",
       "      <td>138</td>\n",
       "      <td>2022-02-01 00:00:00</td>\n",
       "    </tr>\n",
       "    <tr>\n",
       "      <th>...</th>\n",
       "      <td>...</td>\n",
       "      <td>...</td>\n",
       "      <td>...</td>\n",
       "    </tr>\n",
       "    <tr>\n",
       "      <th>2976465</th>\n",
       "      <td>2022-02-27 23:02:27</td>\n",
       "      <td>265</td>\n",
       "      <td>2022-02-27 23:00:00</td>\n",
       "    </tr>\n",
       "    <tr>\n",
       "      <th>2976466</th>\n",
       "      <td>2022-02-27 23:34:00</td>\n",
       "      <td>148</td>\n",
       "      <td>2022-02-27 23:00:00</td>\n",
       "    </tr>\n",
       "    <tr>\n",
       "      <th>2976467</th>\n",
       "      <td>2022-02-27 23:45:26</td>\n",
       "      <td>45</td>\n",
       "      <td>2022-02-27 23:00:00</td>\n",
       "    </tr>\n",
       "    <tr>\n",
       "      <th>2976468</th>\n",
       "      <td>2022-02-27 23:06:00</td>\n",
       "      <td>141</td>\n",
       "      <td>2022-02-27 23:00:00</td>\n",
       "    </tr>\n",
       "    <tr>\n",
       "      <th>2976469</th>\n",
       "      <td>2022-02-27 23:18:00</td>\n",
       "      <td>256</td>\n",
       "      <td>2022-02-27 23:00:00</td>\n",
       "    </tr>\n",
       "  </tbody>\n",
       "</table>\n",
       "<p>2877147 rows × 3 columns</p>\n",
       "</div>"
      ],
      "text/plain": [
       "            pickup_datetime  pickup_location_id         pickup_hour\n",
       "0       2022-02-01 00:06:58                 138 2022-02-01 00:00:00\n",
       "1       2022-02-01 00:38:22                 138 2022-02-01 00:00:00\n",
       "2       2022-02-01 00:03:20                 138 2022-02-01 00:00:00\n",
       "3       2022-02-01 00:08:00                 239 2022-02-01 00:00:00\n",
       "4       2022-02-01 00:06:48                 138 2022-02-01 00:00:00\n",
       "...                     ...                 ...                 ...\n",
       "2976465 2022-02-27 23:02:27                 265 2022-02-27 23:00:00\n",
       "2976466 2022-02-27 23:34:00                 148 2022-02-27 23:00:00\n",
       "2976467 2022-02-27 23:45:26                  45 2022-02-27 23:00:00\n",
       "2976468 2022-02-27 23:06:00                 141 2022-02-27 23:00:00\n",
       "2976469 2022-02-27 23:18:00                 256 2022-02-27 23:00:00\n",
       "\n",
       "[2877147 rows x 3 columns]"
      ]
     },
     "execution_count": 11,
     "metadata": {},
     "output_type": "execute_result"
    }
   ],
   "source": [
    "rides['pickup_hour'] = rides['pickup_datetime'].dt.floor('h')\n",
    "rides"
   ]
  },
  {
   "cell_type": "code",
   "execution_count": 12,
   "metadata": {},
   "outputs": [
    {
     "data": {
      "text/html": [
       "<div>\n",
       "<style scoped>\n",
       "    .dataframe tbody tr th:only-of-type {\n",
       "        vertical-align: middle;\n",
       "    }\n",
       "\n",
       "    .dataframe tbody tr th {\n",
       "        vertical-align: top;\n",
       "    }\n",
       "\n",
       "    .dataframe thead th {\n",
       "        text-align: right;\n",
       "    }\n",
       "</style>\n",
       "<table border=\"1\" class=\"dataframe\">\n",
       "  <thead>\n",
       "    <tr style=\"text-align: right;\">\n",
       "      <th></th>\n",
       "      <th>pickup_hour</th>\n",
       "      <th>pickup_location_id</th>\n",
       "      <th>0</th>\n",
       "    </tr>\n",
       "  </thead>\n",
       "  <tbody>\n",
       "    <tr>\n",
       "      <th>10</th>\n",
       "      <td>2022-02-01 00:00:00</td>\n",
       "      <td>43</td>\n",
       "      <td>3</td>\n",
       "    </tr>\n",
       "    <tr>\n",
       "      <th>83</th>\n",
       "      <td>2022-02-01 01:00:00</td>\n",
       "      <td>43</td>\n",
       "      <td>1</td>\n",
       "    </tr>\n",
       "    <tr>\n",
       "      <th>144</th>\n",
       "      <td>2022-02-01 02:00:00</td>\n",
       "      <td>43</td>\n",
       "      <td>1</td>\n",
       "    </tr>\n",
       "    <tr>\n",
       "      <th>201</th>\n",
       "      <td>2022-02-01 03:00:00</td>\n",
       "      <td>43</td>\n",
       "      <td>3</td>\n",
       "    </tr>\n",
       "    <tr>\n",
       "      <th>306</th>\n",
       "      <td>2022-02-01 05:00:00</td>\n",
       "      <td>43</td>\n",
       "      <td>6</td>\n",
       "    </tr>\n",
       "    <tr>\n",
       "      <th>...</th>\n",
       "      <td>...</td>\n",
       "      <td>...</td>\n",
       "      <td>...</td>\n",
       "    </tr>\n",
       "    <tr>\n",
       "      <th>61718</th>\n",
       "      <td>2022-02-27 19:00:00</td>\n",
       "      <td>43</td>\n",
       "      <td>37</td>\n",
       "    </tr>\n",
       "    <tr>\n",
       "      <th>61822</th>\n",
       "      <td>2022-02-27 20:00:00</td>\n",
       "      <td>43</td>\n",
       "      <td>30</td>\n",
       "    </tr>\n",
       "    <tr>\n",
       "      <th>61912</th>\n",
       "      <td>2022-02-27 21:00:00</td>\n",
       "      <td>43</td>\n",
       "      <td>34</td>\n",
       "    </tr>\n",
       "    <tr>\n",
       "      <th>62010</th>\n",
       "      <td>2022-02-27 22:00:00</td>\n",
       "      <td>43</td>\n",
       "      <td>20</td>\n",
       "    </tr>\n",
       "    <tr>\n",
       "      <th>62102</th>\n",
       "      <td>2022-02-27 23:00:00</td>\n",
       "      <td>43</td>\n",
       "      <td>9</td>\n",
       "    </tr>\n",
       "  </tbody>\n",
       "</table>\n",
       "<p>618 rows × 3 columns</p>\n",
       "</div>"
      ],
      "text/plain": [
       "              pickup_hour  pickup_location_id   0\n",
       "10    2022-02-01 00:00:00                  43   3\n",
       "83    2022-02-01 01:00:00                  43   1\n",
       "144   2022-02-01 02:00:00                  43   1\n",
       "201   2022-02-01 03:00:00                  43   3\n",
       "306   2022-02-01 05:00:00                  43   6\n",
       "...                   ...                 ...  ..\n",
       "61718 2022-02-27 19:00:00                  43  37\n",
       "61822 2022-02-27 20:00:00                  43  30\n",
       "61912 2022-02-27 21:00:00                  43  34\n",
       "62010 2022-02-27 22:00:00                  43  20\n",
       "62102 2022-02-27 23:00:00                  43   9\n",
       "\n",
       "[618 rows x 3 columns]"
      ]
     },
     "execution_count": 12,
     "metadata": {},
     "output_type": "execute_result"
    }
   ],
   "source": [
    "agg_rides = rides.groupby(['pickup_hour', 'pickup_location_id']).size().reset_index()\n",
    "agg_rides=agg_rides[agg_rides.pickup_location_id== 43]\n",
    "agg_rides"
   ]
  },
  {
   "cell_type": "code",
   "execution_count": 15,
   "metadata": {},
   "outputs": [],
   "source": [
    "agg_rides.to_parquet('../data/transformed/ts_data_2022_02.parquet')\n"
   ]
  },
  {
   "cell_type": "code",
   "execution_count": 13,
   "metadata": {},
   "outputs": [
    {
     "data": {
      "application/vnd.plotly.v1+json": {
       "config": {
        "plotlyServerURL": "https://plot.ly"
       },
       "data": [
        {
         "hovertemplate": "Day of Week=Tuesday<br>Date & Hour=%{x}<br>Number of Rides=%{y}<extra></extra>",
         "legendgroup": "Tuesday",
         "line": {
          "color": "#636efa",
          "dash": "solid"
         },
         "marker": {
          "symbol": "circle"
         },
         "mode": "lines",
         "name": "Tuesday",
         "orientation": "v",
         "showlegend": true,
         "type": "scatter",
         "x": [
          "2022-02-01T00:00:00.000000",
          "2022-02-01T01:00:00.000000",
          "2022-02-01T02:00:00.000000",
          "2022-02-01T03:00:00.000000",
          "2022-02-01T05:00:00.000000",
          "2022-02-01T06:00:00.000000",
          "2022-02-01T07:00:00.000000",
          "2022-02-01T08:00:00.000000",
          "2022-02-01T09:00:00.000000",
          "2022-02-01T10:00:00.000000",
          "2022-02-01T11:00:00.000000",
          "2022-02-01T12:00:00.000000",
          "2022-02-01T13:00:00.000000",
          "2022-02-01T14:00:00.000000",
          "2022-02-01T15:00:00.000000",
          "2022-02-01T16:00:00.000000",
          "2022-02-01T17:00:00.000000",
          "2022-02-01T18:00:00.000000",
          "2022-02-01T19:00:00.000000",
          "2022-02-01T20:00:00.000000",
          "2022-02-01T21:00:00.000000",
          "2022-02-01T22:00:00.000000",
          "2022-02-01T23:00:00.000000"
         ],
         "xaxis": "x",
         "y": {
          "bdata": "AwABAAEAAwAGAAsAHgBMAF4ATgBzAHcAdQCZAIgAYwB3AFoARABPADQAKQAUAA==",
          "dtype": "i2"
         },
         "yaxis": "y"
        },
        {
         "hovertemplate": "Day of Week=Wednesday<br>Date & Hour=%{x}<br>Number of Rides=%{y}<extra></extra>",
         "legendgroup": "Wednesday",
         "line": {
          "color": "#EF553B",
          "dash": "solid"
         },
         "marker": {
          "symbol": "circle"
         },
         "mode": "lines",
         "name": "Wednesday",
         "orientation": "v",
         "showlegend": true,
         "type": "scatter",
         "x": [
          "2022-02-02T00:00:00.000000",
          "2022-02-02T01:00:00.000000",
          "2022-02-02T05:00:00.000000",
          "2022-02-02T06:00:00.000000",
          "2022-02-02T07:00:00.000000",
          "2022-02-02T08:00:00.000000",
          "2022-02-02T09:00:00.000000",
          "2022-02-02T10:00:00.000000",
          "2022-02-02T11:00:00.000000",
          "2022-02-02T12:00:00.000000",
          "2022-02-02T13:00:00.000000",
          "2022-02-02T14:00:00.000000",
          "2022-02-02T15:00:00.000000",
          "2022-02-02T16:00:00.000000",
          "2022-02-02T17:00:00.000000",
          "2022-02-02T18:00:00.000000",
          "2022-02-02T19:00:00.000000",
          "2022-02-02T20:00:00.000000",
          "2022-02-02T21:00:00.000000",
          "2022-02-02T22:00:00.000000",
          "2022-02-02T23:00:00.000000"
         ],
         "xaxis": "x",
         "y": {
          "bdata": "CAABAAIADQBBAFsAXAA/AFcAigBnAHkAcgBpAJcAVwBHAD0AJgApAAoA",
          "dtype": "i2"
         },
         "yaxis": "y"
        },
        {
         "hovertemplate": "Day of Week=Thursday<br>Date & Hour=%{x}<br>Number of Rides=%{y}<extra></extra>",
         "legendgroup": "Thursday",
         "line": {
          "color": "#00cc96",
          "dash": "solid"
         },
         "marker": {
          "symbol": "circle"
         },
         "mode": "lines",
         "name": "Thursday",
         "orientation": "v",
         "showlegend": true,
         "type": "scatter",
         "x": [
          "2022-02-03T00:00:00.000000",
          "2022-02-03T01:00:00.000000",
          "2022-02-03T02:00:00.000000",
          "2022-02-03T03:00:00.000000",
          "2022-02-03T04:00:00.000000",
          "2022-02-03T05:00:00.000000",
          "2022-02-03T06:00:00.000000",
          "2022-02-03T07:00:00.000000",
          "2022-02-03T08:00:00.000000",
          "2022-02-03T09:00:00.000000",
          "2022-02-03T10:00:00.000000",
          "2022-02-03T11:00:00.000000",
          "2022-02-03T12:00:00.000000",
          "2022-02-03T13:00:00.000000",
          "2022-02-03T14:00:00.000000",
          "2022-02-03T15:00:00.000000",
          "2022-02-03T16:00:00.000000",
          "2022-02-03T17:00:00.000000",
          "2022-02-03T18:00:00.000000",
          "2022-02-03T19:00:00.000000",
          "2022-02-03T20:00:00.000000",
          "2022-02-03T21:00:00.000000",
          "2022-02-03T22:00:00.000000",
          "2022-02-03T23:00:00.000000"
         ],
         "xaxis": "x",
         "y": {
          "bdata": "BwADAAEAAwACAAgAEwBJAE4ATQBOAHcAmQBqAJsAogB3AHUAXQA9AEYAIQAYABcA",
          "dtype": "i2"
         },
         "yaxis": "y"
        },
        {
         "hovertemplate": "Day of Week=Friday<br>Date & Hour=%{x}<br>Number of Rides=%{y}<extra></extra>",
         "legendgroup": "Friday",
         "line": {
          "color": "#ab63fa",
          "dash": "solid"
         },
         "marker": {
          "symbol": "circle"
         },
         "mode": "lines",
         "name": "Friday",
         "orientation": "v",
         "showlegend": true,
         "type": "scatter",
         "x": [
          "2022-02-04T00:00:00.000000",
          "2022-02-04T01:00:00.000000",
          "2022-02-04T02:00:00.000000",
          "2022-02-04T04:00:00.000000",
          "2022-02-04T05:00:00.000000",
          "2022-02-04T06:00:00.000000",
          "2022-02-04T07:00:00.000000",
          "2022-02-04T08:00:00.000000",
          "2022-02-04T09:00:00.000000",
          "2022-02-04T10:00:00.000000",
          "2022-02-04T11:00:00.000000",
          "2022-02-04T12:00:00.000000",
          "2022-02-04T13:00:00.000000",
          "2022-02-04T14:00:00.000000",
          "2022-02-04T15:00:00.000000",
          "2022-02-04T16:00:00.000000",
          "2022-02-04T17:00:00.000000",
          "2022-02-04T18:00:00.000000",
          "2022-02-04T19:00:00.000000",
          "2022-02-04T20:00:00.000000",
          "2022-02-04T21:00:00.000000",
          "2022-02-04T22:00:00.000000",
          "2022-02-04T23:00:00.000000"
         ],
         "xaxis": "x",
         "y": {
          "bdata": "CQAFAAEAAQAEABQAPQBRAEgASwBpAIsAYgCSAJIAagCXAGkAZABXACwAHAAgAA==",
          "dtype": "i2"
         },
         "yaxis": "y"
        },
        {
         "hovertemplate": "Day of Week=Saturday<br>Date & Hour=%{x}<br>Number of Rides=%{y}<extra></extra>",
         "legendgroup": "Saturday",
         "line": {
          "color": "#FFA15A",
          "dash": "solid"
         },
         "marker": {
          "symbol": "circle"
         },
         "mode": "lines",
         "name": "Saturday",
         "orientation": "v",
         "showlegend": true,
         "type": "scatter",
         "x": [
          "2022-02-05T00:00:00.000000",
          "2022-02-05T01:00:00.000000",
          "2022-02-05T02:00:00.000000",
          "2022-02-05T03:00:00.000000",
          "2022-02-05T04:00:00.000000",
          "2022-02-05T05:00:00.000000",
          "2022-02-05T06:00:00.000000",
          "2022-02-05T07:00:00.000000",
          "2022-02-05T08:00:00.000000",
          "2022-02-05T09:00:00.000000",
          "2022-02-05T10:00:00.000000",
          "2022-02-05T11:00:00.000000",
          "2022-02-05T12:00:00.000000",
          "2022-02-05T13:00:00.000000",
          "2022-02-05T14:00:00.000000",
          "2022-02-05T15:00:00.000000",
          "2022-02-05T16:00:00.000000",
          "2022-02-05T17:00:00.000000",
          "2022-02-05T18:00:00.000000",
          "2022-02-05T19:00:00.000000",
          "2022-02-05T20:00:00.000000",
          "2022-02-05T21:00:00.000000",
          "2022-02-05T22:00:00.000000",
          "2022-02-05T23:00:00.000000"
         ],
         "xaxis": "x",
         "y": {
          "bdata": "DQACAAIAAQADAAEAAwANABwALgAyAHQAkQCPANMAxwCaALAAjgBkAEoAJQAlACMA",
          "dtype": "i2"
         },
         "yaxis": "y"
        },
        {
         "hovertemplate": "Day of Week=Sunday<br>Date & Hour=%{x}<br>Number of Rides=%{y}<extra></extra>",
         "legendgroup": "Sunday",
         "line": {
          "color": "#19d3f3",
          "dash": "solid"
         },
         "marker": {
          "symbol": "circle"
         },
         "mode": "lines",
         "name": "Sunday",
         "orientation": "v",
         "showlegend": true,
         "type": "scatter",
         "x": [
          "2022-02-06T00:00:00.000000",
          "2022-02-06T01:00:00.000000",
          "2022-02-06T02:00:00.000000",
          "2022-02-06T05:00:00.000000",
          "2022-02-06T06:00:00.000000",
          "2022-02-06T07:00:00.000000",
          "2022-02-06T08:00:00.000000",
          "2022-02-06T09:00:00.000000",
          "2022-02-06T10:00:00.000000",
          "2022-02-06T11:00:00.000000",
          "2022-02-06T12:00:00.000000",
          "2022-02-06T13:00:00.000000",
          "2022-02-06T14:00:00.000000",
          "2022-02-06T15:00:00.000000",
          "2022-02-06T16:00:00.000000",
          "2022-02-06T17:00:00.000000",
          "2022-02-06T18:00:00.000000",
          "2022-02-06T19:00:00.000000",
          "2022-02-06T20:00:00.000000",
          "2022-02-06T21:00:00.000000",
          "2022-02-06T22:00:00.000000",
          "2022-02-06T23:00:00.000000"
         ],
         "xaxis": "x",
         "y": {
          "bdata": "DwADAAEAAwANABAAFgBcADoAYwCJAH8AngCMAIUAfAA0AEoAJwAeABEABAA=",
          "dtype": "i2"
         },
         "yaxis": "y"
        },
        {
         "hovertemplate": "Day of Week=Monday<br>Date & Hour=%{x}<br>Number of Rides=%{y}<extra></extra>",
         "legendgroup": "Monday",
         "line": {
          "color": "#FF6692",
          "dash": "solid"
         },
         "marker": {
          "symbol": "circle"
         },
         "mode": "lines",
         "name": "Monday",
         "orientation": "v",
         "showlegend": true,
         "type": "scatter",
         "x": [
          "2022-02-07T00:00:00.000000",
          "2022-02-07T01:00:00.000000",
          "2022-02-07T02:00:00.000000",
          "2022-02-07T03:00:00.000000",
          "2022-02-07T05:00:00.000000",
          "2022-02-07T06:00:00.000000",
          "2022-02-07T07:00:00.000000",
          "2022-02-07T08:00:00.000000",
          "2022-02-07T09:00:00.000000",
          "2022-02-07T10:00:00.000000",
          "2022-02-07T11:00:00.000000",
          "2022-02-07T12:00:00.000000",
          "2022-02-07T13:00:00.000000",
          "2022-02-07T14:00:00.000000",
          "2022-02-07T15:00:00.000000",
          "2022-02-07T16:00:00.000000",
          "2022-02-07T17:00:00.000000",
          "2022-02-07T18:00:00.000000",
          "2022-02-07T19:00:00.000000",
          "2022-02-07T20:00:00.000000",
          "2022-02-07T21:00:00.000000",
          "2022-02-07T22:00:00.000000",
          "2022-02-07T23:00:00.000000"
         ],
         "xaxis": "x",
         "y": {
          "bdata": "AwABAAEAAgACABYAMwBbAE0ARgBqAHMAcQCnAJEAaQBvAFUAPwAyABYAEwAIAA==",
          "dtype": "i2"
         },
         "yaxis": "y"
        }
       ],
       "layout": {
        "legend": {
         "title": {
          "text": "Day of Week"
         },
         "tracegroupgap": 0
        },
        "template": {
         "data": {
          "bar": [
           {
            "error_x": {
             "color": "#2a3f5f"
            },
            "error_y": {
             "color": "#2a3f5f"
            },
            "marker": {
             "line": {
              "color": "#E5ECF6",
              "width": 0.5
             },
             "pattern": {
              "fillmode": "overlay",
              "size": 10,
              "solidity": 0.2
             }
            },
            "type": "bar"
           }
          ],
          "barpolar": [
           {
            "marker": {
             "line": {
              "color": "#E5ECF6",
              "width": 0.5
             },
             "pattern": {
              "fillmode": "overlay",
              "size": 10,
              "solidity": 0.2
             }
            },
            "type": "barpolar"
           }
          ],
          "carpet": [
           {
            "aaxis": {
             "endlinecolor": "#2a3f5f",
             "gridcolor": "white",
             "linecolor": "white",
             "minorgridcolor": "white",
             "startlinecolor": "#2a3f5f"
            },
            "baxis": {
             "endlinecolor": "#2a3f5f",
             "gridcolor": "white",
             "linecolor": "white",
             "minorgridcolor": "white",
             "startlinecolor": "#2a3f5f"
            },
            "type": "carpet"
           }
          ],
          "choropleth": [
           {
            "colorbar": {
             "outlinewidth": 0,
             "ticks": ""
            },
            "type": "choropleth"
           }
          ],
          "contour": [
           {
            "colorbar": {
             "outlinewidth": 0,
             "ticks": ""
            },
            "colorscale": [
             [
              0,
              "#0d0887"
             ],
             [
              0.1111111111111111,
              "#46039f"
             ],
             [
              0.2222222222222222,
              "#7201a8"
             ],
             [
              0.3333333333333333,
              "#9c179e"
             ],
             [
              0.4444444444444444,
              "#bd3786"
             ],
             [
              0.5555555555555556,
              "#d8576b"
             ],
             [
              0.6666666666666666,
              "#ed7953"
             ],
             [
              0.7777777777777778,
              "#fb9f3a"
             ],
             [
              0.8888888888888888,
              "#fdca26"
             ],
             [
              1,
              "#f0f921"
             ]
            ],
            "type": "contour"
           }
          ],
          "contourcarpet": [
           {
            "colorbar": {
             "outlinewidth": 0,
             "ticks": ""
            },
            "type": "contourcarpet"
           }
          ],
          "heatmap": [
           {
            "colorbar": {
             "outlinewidth": 0,
             "ticks": ""
            },
            "colorscale": [
             [
              0,
              "#0d0887"
             ],
             [
              0.1111111111111111,
              "#46039f"
             ],
             [
              0.2222222222222222,
              "#7201a8"
             ],
             [
              0.3333333333333333,
              "#9c179e"
             ],
             [
              0.4444444444444444,
              "#bd3786"
             ],
             [
              0.5555555555555556,
              "#d8576b"
             ],
             [
              0.6666666666666666,
              "#ed7953"
             ],
             [
              0.7777777777777778,
              "#fb9f3a"
             ],
             [
              0.8888888888888888,
              "#fdca26"
             ],
             [
              1,
              "#f0f921"
             ]
            ],
            "type": "heatmap"
           }
          ],
          "histogram": [
           {
            "marker": {
             "pattern": {
              "fillmode": "overlay",
              "size": 10,
              "solidity": 0.2
             }
            },
            "type": "histogram"
           }
          ],
          "histogram2d": [
           {
            "colorbar": {
             "outlinewidth": 0,
             "ticks": ""
            },
            "colorscale": [
             [
              0,
              "#0d0887"
             ],
             [
              0.1111111111111111,
              "#46039f"
             ],
             [
              0.2222222222222222,
              "#7201a8"
             ],
             [
              0.3333333333333333,
              "#9c179e"
             ],
             [
              0.4444444444444444,
              "#bd3786"
             ],
             [
              0.5555555555555556,
              "#d8576b"
             ],
             [
              0.6666666666666666,
              "#ed7953"
             ],
             [
              0.7777777777777778,
              "#fb9f3a"
             ],
             [
              0.8888888888888888,
              "#fdca26"
             ],
             [
              1,
              "#f0f921"
             ]
            ],
            "type": "histogram2d"
           }
          ],
          "histogram2dcontour": [
           {
            "colorbar": {
             "outlinewidth": 0,
             "ticks": ""
            },
            "colorscale": [
             [
              0,
              "#0d0887"
             ],
             [
              0.1111111111111111,
              "#46039f"
             ],
             [
              0.2222222222222222,
              "#7201a8"
             ],
             [
              0.3333333333333333,
              "#9c179e"
             ],
             [
              0.4444444444444444,
              "#bd3786"
             ],
             [
              0.5555555555555556,
              "#d8576b"
             ],
             [
              0.6666666666666666,
              "#ed7953"
             ],
             [
              0.7777777777777778,
              "#fb9f3a"
             ],
             [
              0.8888888888888888,
              "#fdca26"
             ],
             [
              1,
              "#f0f921"
             ]
            ],
            "type": "histogram2dcontour"
           }
          ],
          "mesh3d": [
           {
            "colorbar": {
             "outlinewidth": 0,
             "ticks": ""
            },
            "type": "mesh3d"
           }
          ],
          "parcoords": [
           {
            "line": {
             "colorbar": {
              "outlinewidth": 0,
              "ticks": ""
             }
            },
            "type": "parcoords"
           }
          ],
          "pie": [
           {
            "automargin": true,
            "type": "pie"
           }
          ],
          "scatter": [
           {
            "fillpattern": {
             "fillmode": "overlay",
             "size": 10,
             "solidity": 0.2
            },
            "type": "scatter"
           }
          ],
          "scatter3d": [
           {
            "line": {
             "colorbar": {
              "outlinewidth": 0,
              "ticks": ""
             }
            },
            "marker": {
             "colorbar": {
              "outlinewidth": 0,
              "ticks": ""
             }
            },
            "type": "scatter3d"
           }
          ],
          "scattercarpet": [
           {
            "marker": {
             "colorbar": {
              "outlinewidth": 0,
              "ticks": ""
             }
            },
            "type": "scattercarpet"
           }
          ],
          "scattergeo": [
           {
            "marker": {
             "colorbar": {
              "outlinewidth": 0,
              "ticks": ""
             }
            },
            "type": "scattergeo"
           }
          ],
          "scattergl": [
           {
            "marker": {
             "colorbar": {
              "outlinewidth": 0,
              "ticks": ""
             }
            },
            "type": "scattergl"
           }
          ],
          "scattermap": [
           {
            "marker": {
             "colorbar": {
              "outlinewidth": 0,
              "ticks": ""
             }
            },
            "type": "scattermap"
           }
          ],
          "scattermapbox": [
           {
            "marker": {
             "colorbar": {
              "outlinewidth": 0,
              "ticks": ""
             }
            },
            "type": "scattermapbox"
           }
          ],
          "scatterpolar": [
           {
            "marker": {
             "colorbar": {
              "outlinewidth": 0,
              "ticks": ""
             }
            },
            "type": "scatterpolar"
           }
          ],
          "scatterpolargl": [
           {
            "marker": {
             "colorbar": {
              "outlinewidth": 0,
              "ticks": ""
             }
            },
            "type": "scatterpolargl"
           }
          ],
          "scatterternary": [
           {
            "marker": {
             "colorbar": {
              "outlinewidth": 0,
              "ticks": ""
             }
            },
            "type": "scatterternary"
           }
          ],
          "surface": [
           {
            "colorbar": {
             "outlinewidth": 0,
             "ticks": ""
            },
            "colorscale": [
             [
              0,
              "#0d0887"
             ],
             [
              0.1111111111111111,
              "#46039f"
             ],
             [
              0.2222222222222222,
              "#7201a8"
             ],
             [
              0.3333333333333333,
              "#9c179e"
             ],
             [
              0.4444444444444444,
              "#bd3786"
             ],
             [
              0.5555555555555556,
              "#d8576b"
             ],
             [
              0.6666666666666666,
              "#ed7953"
             ],
             [
              0.7777777777777778,
              "#fb9f3a"
             ],
             [
              0.8888888888888888,
              "#fdca26"
             ],
             [
              1,
              "#f0f921"
             ]
            ],
            "type": "surface"
           }
          ],
          "table": [
           {
            "cells": {
             "fill": {
              "color": "#EBF0F8"
             },
             "line": {
              "color": "white"
             }
            },
            "header": {
             "fill": {
              "color": "#C8D4E3"
             },
             "line": {
              "color": "white"
             }
            },
            "type": "table"
           }
          ]
         },
         "layout": {
          "annotationdefaults": {
           "arrowcolor": "#2a3f5f",
           "arrowhead": 0,
           "arrowwidth": 1
          },
          "autotypenumbers": "strict",
          "coloraxis": {
           "colorbar": {
            "outlinewidth": 0,
            "ticks": ""
           }
          },
          "colorscale": {
           "diverging": [
            [
             0,
             "#8e0152"
            ],
            [
             0.1,
             "#c51b7d"
            ],
            [
             0.2,
             "#de77ae"
            ],
            [
             0.3,
             "#f1b6da"
            ],
            [
             0.4,
             "#fde0ef"
            ],
            [
             0.5,
             "#f7f7f7"
            ],
            [
             0.6,
             "#e6f5d0"
            ],
            [
             0.7,
             "#b8e186"
            ],
            [
             0.8,
             "#7fbc41"
            ],
            [
             0.9,
             "#4d9221"
            ],
            [
             1,
             "#276419"
            ]
           ],
           "sequential": [
            [
             0,
             "#0d0887"
            ],
            [
             0.1111111111111111,
             "#46039f"
            ],
            [
             0.2222222222222222,
             "#7201a8"
            ],
            [
             0.3333333333333333,
             "#9c179e"
            ],
            [
             0.4444444444444444,
             "#bd3786"
            ],
            [
             0.5555555555555556,
             "#d8576b"
            ],
            [
             0.6666666666666666,
             "#ed7953"
            ],
            [
             0.7777777777777778,
             "#fb9f3a"
            ],
            [
             0.8888888888888888,
             "#fdca26"
            ],
            [
             1,
             "#f0f921"
            ]
           ],
           "sequentialminus": [
            [
             0,
             "#0d0887"
            ],
            [
             0.1111111111111111,
             "#46039f"
            ],
            [
             0.2222222222222222,
             "#7201a8"
            ],
            [
             0.3333333333333333,
             "#9c179e"
            ],
            [
             0.4444444444444444,
             "#bd3786"
            ],
            [
             0.5555555555555556,
             "#d8576b"
            ],
            [
             0.6666666666666666,
             "#ed7953"
            ],
            [
             0.7777777777777778,
             "#fb9f3a"
            ],
            [
             0.8888888888888888,
             "#fdca26"
            ],
            [
             1,
             "#f0f921"
            ]
           ]
          },
          "colorway": [
           "#636efa",
           "#EF553B",
           "#00cc96",
           "#ab63fa",
           "#FFA15A",
           "#19d3f3",
           "#FF6692",
           "#B6E880",
           "#FF97FF",
           "#FECB52"
          ],
          "font": {
           "color": "#2a3f5f"
          },
          "geo": {
           "bgcolor": "white",
           "lakecolor": "white",
           "landcolor": "#E5ECF6",
           "showlakes": true,
           "showland": true,
           "subunitcolor": "white"
          },
          "hoverlabel": {
           "align": "left"
          },
          "hovermode": "closest",
          "mapbox": {
           "style": "light"
          },
          "paper_bgcolor": "white",
          "plot_bgcolor": "#E5ECF6",
          "polar": {
           "angularaxis": {
            "gridcolor": "white",
            "linecolor": "white",
            "ticks": ""
           },
           "bgcolor": "#E5ECF6",
           "radialaxis": {
            "gridcolor": "white",
            "linecolor": "white",
            "ticks": ""
           }
          },
          "scene": {
           "xaxis": {
            "backgroundcolor": "#E5ECF6",
            "gridcolor": "white",
            "gridwidth": 2,
            "linecolor": "white",
            "showbackground": true,
            "ticks": "",
            "zerolinecolor": "white"
           },
           "yaxis": {
            "backgroundcolor": "#E5ECF6",
            "gridcolor": "white",
            "gridwidth": 2,
            "linecolor": "white",
            "showbackground": true,
            "ticks": "",
            "zerolinecolor": "white"
           },
           "zaxis": {
            "backgroundcolor": "#E5ECF6",
            "gridcolor": "white",
            "gridwidth": 2,
            "linecolor": "white",
            "showbackground": true,
            "ticks": "",
            "zerolinecolor": "white"
           }
          },
          "shapedefaults": {
           "line": {
            "color": "#2a3f5f"
           }
          },
          "ternary": {
           "aaxis": {
            "gridcolor": "white",
            "linecolor": "white",
            "ticks": ""
           },
           "baxis": {
            "gridcolor": "white",
            "linecolor": "white",
            "ticks": ""
           },
           "bgcolor": "#E5ECF6",
           "caxis": {
            "gridcolor": "white",
            "linecolor": "white",
            "ticks": ""
           }
          },
          "title": {
           "x": 0.05
          },
          "xaxis": {
           "automargin": true,
           "gridcolor": "white",
           "linecolor": "white",
           "ticks": "",
           "title": {
            "standoff": 15
           },
           "zerolinecolor": "white",
           "zerolinewidth": 2
          },
          "yaxis": {
           "automargin": true,
           "gridcolor": "white",
           "linecolor": "white",
           "ticks": "",
           "title": {
            "standoff": 15
           },
           "zerolinecolor": "white",
           "zerolinewidth": 2
          }
         }
        },
        "title": {
         "text": "Ride Counts Over Time (Location CP)"
        },
        "xaxis": {
         "anchor": "y",
         "domain": [
          0,
          1
         ],
         "dtick": 3600000,
         "showgrid": true,
         "tickangle": 45,
         "tickformat": "%H",
         "title": {
          "text": "Date & Hour"
         }
        },
        "yaxis": {
         "anchor": "x",
         "domain": [
          0,
          1
         ],
         "title": {
          "text": "Number of Rides"
         }
        }
       }
      }
     },
     "metadata": {},
     "output_type": "display_data"
    }
   ],
   "source": [
    "import plotly.express as px\n",
    "\n",
    "# Rename count column (if needed)\n",
    "agg_rides = agg_rides.rename(columns={0: 'ride_count'})\n",
    "\n",
    "# Filter for location 43 and up to 15 Feb\n",
    "filtered = agg_rides[\n",
    "    (agg_rides['pickup_location_id'] == 43) &\n",
    "    (agg_rides['pickup_hour'] < pd.to_datetime('2022-02-08'))\n",
    "].copy()\n",
    "\n",
    "# Add day of week (optional for color), but keep full datetime\n",
    "filtered['day_of_week'] = filtered['pickup_hour'].dt.day_name()\n",
    "\n",
    "# Plot with full timestamp on x-axis\n",
    "fig = px.line(\n",
    "    filtered,\n",
    "    x='pickup_hour',  # full timestamp\n",
    "    y='ride_count',\n",
    "    color='day_of_week',  # for color-coded days\n",
    "    title='Ride Counts Over Time (Location CP)',\n",
    "    labels={\n",
    "        'pickup_hour': 'Date & Hour',\n",
    "        'ride_count': 'Number of Rides',\n",
    "        'day_of_week': 'Day of Week'\n",
    "    }\n",
    ")\n",
    "fig.update_layout(\n",
    "    xaxis=dict(\n",
    "        tickformat=\"%H\",  # e.g. Feb 01, 00:00 (with line break for cleaner display)\n",
    "        dtick=3600000,                # 1 hour in milliseconds\n",
    "        tickangle=45,\n",
    "        showgrid=True\n",
    "    )\n",
    ")\n",
    "\n",
    "fig.show()\n",
    "\n"
   ]
  },
  {
   "cell_type": "code",
   "execution_count": null,
   "metadata": {},
   "outputs": [],
   "source": []
  }
 ],
 "metadata": {
  "kernelspec": {
   "display_name": ".venv",
   "language": "python",
   "name": "python3"
  },
  "language_info": {
   "codemirror_mode": {
    "name": "ipython",
    "version": 3
   },
   "file_extension": ".py",
   "mimetype": "text/x-python",
   "name": "python",
   "nbconvert_exporter": "python",
   "pygments_lexer": "ipython3",
   "version": "3.10.6"
  },
  "orig_nbformat": 4
 },
 "nbformat": 4,
 "nbformat_minor": 2
}
